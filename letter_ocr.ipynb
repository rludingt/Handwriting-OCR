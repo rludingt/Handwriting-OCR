{
 "cells": [
  {
   "cell_type": "markdown",
   "metadata": {},
   "source": [
    "### Imports"
   ]
  },
  {
   "cell_type": "code",
   "execution_count": 2,
   "metadata": {},
   "outputs": [],
   "source": [
    "import tensorflow as tf\n",
    "from keras.models import Sequential\n",
    "from keras.layers import Conv2D, Flatten, MaxPooling2D, Dense\n",
    "import os\n",
    "import cv2\n",
    "import numpy as np\n",
    "from sklearn.preprocessing import LabelEncoder\n",
    "from sklearn.utils import shuffle\n",
    "import matplotlib.pyplot as plt \n"
   ]
  },
  {
   "cell_type": "markdown",
   "metadata": {},
   "source": [
    "### Get images and labels for training"
   ]
  },
  {
   "cell_type": "code",
   "execution_count": 3,
   "metadata": {},
   "outputs": [],
   "source": [
    "def get_data(data_path):\n",
    "    \"\"\"\n",
    "    Takes file path to OCR_dataset, and returns data ready to use as \n",
    "    (X, y) tuple of numpy arrays\n",
    "    \"\"\"\n",
    "    images = []\n",
    "    labels = []\n",
    "\n",
    "    dir_list = os.listdir(data_path)\n",
    "    for i in dir_list:\n",
    "        dir = os.path.join(data_path, i)\n",
    "        file_list = os.listdir(dir)\n",
    "        for j in file_list:\n",
    "            files = os.path.join(dir, j)\n",
    "            img = cv2.imread(files)\n",
    "            img = cv2.resize(img, (64,64))\n",
    "            img = np.array(img, dtype=np.float32)\n",
    "            img = img/255\n",
    "            images.append(img)\n",
    "            labels.append(i)\n",
    "\n",
    "    X = np.array(images)\n",
    "    y = np.array(labels)\n",
    "\n",
    "    return (X, y)"
   ]
  },
  {
   "cell_type": "markdown",
   "metadata": {},
   "source": [
    "### Label, Shuffle, Build Model"
   ]
  },
  {
   "cell_type": "code",
   "execution_count": 4,
   "metadata": {},
   "outputs": [
    {
     "name": "stderr",
     "output_type": "stream",
     "text": [
      "/opt/homebrew/Caskroom/miniforge/base/lib/python3.9/site-packages/keras/src/layers/convolutional/base_conv.py:107: UserWarning: Do not pass an `input_shape`/`input_dim` argument to a layer. When using Sequential models, prefer using an `Input(shape)` object as the first layer in the model instead.\n",
      "  super().__init__(activity_regularizer=activity_regularizer, **kwargs)\n"
     ]
    }
   ],
   "source": [
    "# Get Data\n",
    "training_path = 'OCR_dataset/data/training_data'\n",
    "X, y = get_data(training_path)\n",
    "\n",
    "# Label\n",
    "le = LabelEncoder()\n",
    "y = le.fit_transform(y)\n",
    "\n",
    "# Shuffle\n",
    "X_sh, y_sh = shuffle(X, y, random_state=42)\n",
    "\n",
    "# Build Model\n",
    "model = Sequential()\n",
    "model.add(Conv2D(filters=16, kernel_size=(3,3), activation='relu', input_shape=(64,64,3)))\n",
    "model.add(MaxPooling2D())\n",
    "model.add(Conv2D(filters=32, kernel_size=(3,3),  activation='relu'))\n",
    "model.add(MaxPooling2D())\n",
    "model.add(Conv2D(filters=64, kernel_size=(3,3),  activation='relu'))\n",
    "model.add(MaxPooling2D())\n",
    "model.add(Conv2D(filters=128, kernel_size=(3,3), activation='relu'))\n",
    "model.add(Flatten())\n",
    "model.add(Dense(units=128, activation='relu'))\n",
    "model.add(Dense(units=64, activation='relu'))\n",
    "model.add(Dense(units=36, activation='softmax'))"
   ]
  },
  {
   "cell_type": "markdown",
   "metadata": {},
   "source": [
    "### Compile and Train"
   ]
  },
  {
   "cell_type": "code",
   "execution_count": 5,
   "metadata": {},
   "outputs": [
    {
     "name": "stdout",
     "output_type": "stream",
     "text": [
      "Epoch 1/10\n",
      "\u001b[1m1032/1032\u001b[0m \u001b[32m━━━━━━━━━━━━━━━━━━━━\u001b[0m\u001b[37m\u001b[0m \u001b[1m15s\u001b[0m 14ms/step - accuracy: 0.6199 - loss: 1.4024 - val_accuracy: 0.9290 - val_loss: 0.2339\n",
      "Epoch 2/10\n",
      "\u001b[1m1032/1032\u001b[0m \u001b[32m━━━━━━━━━━━━━━━━━━━━\u001b[0m\u001b[37m\u001b[0m \u001b[1m14s\u001b[0m 14ms/step - accuracy: 0.9357 - loss: 0.2063 - val_accuracy: 0.9375 - val_loss: 0.1746\n",
      "Epoch 3/10\n",
      "\u001b[1m1032/1032\u001b[0m \u001b[32m━━━━━━━━━━━━━━━━━━━━\u001b[0m\u001b[37m\u001b[0m \u001b[1m14s\u001b[0m 13ms/step - accuracy: 0.9540 - loss: 0.1379 - val_accuracy: 0.9513 - val_loss: 0.1577\n",
      "Epoch 4/10\n",
      "\u001b[1m1032/1032\u001b[0m \u001b[32m━━━━━━━━━━━━━━━━━━━━\u001b[0m\u001b[37m\u001b[0m \u001b[1m14s\u001b[0m 13ms/step - accuracy: 0.9605 - loss: 0.1046 - val_accuracy: 0.9530 - val_loss: 0.1594\n",
      "Epoch 5/10\n",
      "\u001b[1m1032/1032\u001b[0m \u001b[32m━━━━━━━━━━━━━━━━━━━━\u001b[0m\u001b[37m\u001b[0m \u001b[1m14s\u001b[0m 14ms/step - accuracy: 0.9712 - loss: 0.0794 - val_accuracy: 0.9544 - val_loss: 0.1666\n",
      "Epoch 6/10\n",
      "\u001b[1m1032/1032\u001b[0m \u001b[32m━━━━━━━━━━━━━━━━━━━━\u001b[0m\u001b[37m\u001b[0m \u001b[1m14s\u001b[0m 14ms/step - accuracy: 0.9711 - loss: 0.0787 - val_accuracy: 0.9576 - val_loss: 0.1385\n",
      "Epoch 7/10\n",
      "\u001b[1m1032/1032\u001b[0m \u001b[32m━━━━━━━━━━━━━━━━━━━━\u001b[0m\u001b[37m\u001b[0m \u001b[1m14s\u001b[0m 13ms/step - accuracy: 0.9764 - loss: 0.0586 - val_accuracy: 0.9561 - val_loss: 0.1441\n",
      "Epoch 8/10\n",
      "\u001b[1m1032/1032\u001b[0m \u001b[32m━━━━━━━━━━━━━━━━━━━━\u001b[0m\u001b[37m\u001b[0m \u001b[1m14s\u001b[0m 13ms/step - accuracy: 0.9790 - loss: 0.0562 - val_accuracy: 0.9583 - val_loss: 0.1616\n",
      "Epoch 9/10\n",
      "\u001b[1m1032/1032\u001b[0m \u001b[32m━━━━━━━━━━━━━━━━━━━━\u001b[0m\u001b[37m\u001b[0m \u001b[1m14s\u001b[0m 14ms/step - accuracy: 0.9793 - loss: 0.0516 - val_accuracy: 0.9610 - val_loss: 0.1351\n",
      "Epoch 10/10\n",
      "\u001b[1m1032/1032\u001b[0m \u001b[32m━━━━━━━━━━━━━━━━━━━━\u001b[0m\u001b[37m\u001b[0m \u001b[1m14s\u001b[0m 14ms/step - accuracy: 0.9764 - loss: 0.0577 - val_accuracy: 0.9632 - val_loss: 0.1334\n"
     ]
    }
   ],
   "source": [
    "model.compile(optimizer='adam', loss='sparse_categorical_crossentropy', metrics = ['accuracy'])\n",
    "history = model.fit(X_sh, y_sh ,validation_split=0.2, batch_size=16, epochs=10)\n"
   ]
  },
  {
   "cell_type": "markdown",
   "metadata": {},
   "source": [
    "### Analyze Training Results"
   ]
  },
  {
   "cell_type": "code",
   "execution_count": 6,
   "metadata": {},
   "outputs": [
    {
     "data": {
      "text/plain": [
       "<matplotlib.legend.Legend at 0x2b3dee370>"
      ]
     },
     "execution_count": 6,
     "metadata": {},
     "output_type": "execute_result"
    },
    {
     "data": {
      "image/png": "[encoded data removed]",
      "text/plain": [
       "<Figure size 640x480 with 1 Axes>"
      ]
     },
     "metadata": {},
     "output_type": "display_data"
    }
   ],
   "source": [
    "plt.plot(history.history['loss'])\n",
    "plt.plot(history.history['val_loss'])\n",
    "plt.legend(['loss', 'val_loss'])\n"
   ]
  },
  {
   "cell_type": "markdown",
   "metadata": {},
   "source": [
    "### Run testing data"
   ]
  },
  {
   "cell_type": "code",
   "execution_count": 7,
   "metadata": {},
   "outputs": [
    {
     "name": "stdout",
     "output_type": "stream",
     "text": [
      "\u001b[1m32/32\u001b[0m \u001b[32m━━━━━━━━━━━━━━━━━━━━\u001b[0m\u001b[37m\u001b[0m \u001b[1m0s\u001b[0m 8ms/step\n"
     ]
    }
   ],
   "source": [
    "\n",
    "# Get Data\n",
    "testing_path = 'OCR_dataset/data/testing_data'\n",
    "X_test, y_test = get_data(testing_path)\n",
    "\n",
    "# Make Predictions\n",
    "preds = model.predict(X_test)\n",
    "predicted_labels = le.inverse_transform(np.argmax(preds, axis=1))"
   ]
  },
  {
   "cell_type": "code",
   "execution_count": 8,
   "metadata": {},
   "outputs": [
    {
     "data": {
      "text/plain": [
       "array([[[[0.8509804 , 0.8509804 , 0.8509804 ],\n",
       "         [0.84705883, 0.84705883, 0.84705883],\n",
       "         [0.8392157 , 0.8392157 , 0.8392157 ],\n",
       "         ...,\n",
       "         [0.85490197, 0.85490197, 0.85490197],\n",
       "         [0.84705883, 0.84705883, 0.84705883],\n",
       "         [0.84313726, 0.84313726, 0.84313726]],\n",
       "\n",
       "        [[0.84705883, 0.84705883, 0.84705883],\n",
       "         [0.8392157 , 0.8392157 , 0.8392157 ],\n",
       "         [0.827451  , 0.827451  , 0.827451  ],\n",
       "         ...,\n",
       "         [0.85490197, 0.85490197, 0.85490197],\n",
       "         [0.8509804 , 0.8509804 , 0.8509804 ],\n",
       "         [0.8509804 , 0.8509804 , 0.8509804 ]],\n",
       "\n",
       "        [[0.8392157 , 0.8392157 , 0.8392157 ],\n",
       "         [0.827451  , 0.827451  , 0.827451  ],\n",
       "         [0.80784315, 0.80784315, 0.80784315],\n",
       "         ...,\n",
       "         [0.85490197, 0.85490197, 0.85490197],\n",
       "         [0.85882354, 0.85882354, 0.85882354],\n",
       "         [0.8627451 , 0.8627451 , 0.8627451 ]],\n",
       "\n",
       "        ...,\n",
       "\n",
       "        [[0.8392157 , 0.8392157 , 0.8392157 ],\n",
       "         [0.80784315, 0.80784315, 0.80784315],\n",
       "         [0.75686276, 0.75686276, 0.75686276],\n",
       "         ...,\n",
       "         [0.7490196 , 0.7490196 , 0.7490196 ],\n",
       "         [0.8       , 0.8       , 0.8       ],\n",
       "         [0.827451  , 0.827451  , 0.827451  ]],\n",
       "\n",
       "        [[0.84313726, 0.84313726, 0.84313726],\n",
       "         [0.81960785, 0.81960785, 0.81960785],\n",
       "         [0.78039217, 0.78039217, 0.78039217],\n",
       "         ...,\n",
       "         [0.78039217, 0.78039217, 0.78039217],\n",
       "         [0.8156863 , 0.8156863 , 0.8156863 ],\n",
       "         [0.8352941 , 0.8352941 , 0.8352941 ]],\n",
       "\n",
       "        [[0.84313726, 0.84313726, 0.84313726],\n",
       "         [0.827451  , 0.827451  , 0.827451  ],\n",
       "         [0.8       , 0.8       , 0.8       ],\n",
       "         ...,\n",
       "         [0.8       , 0.8       , 0.8       ],\n",
       "         [0.827451  , 0.827451  , 0.827451  ],\n",
       "         [0.84313726, 0.84313726, 0.84313726]]],\n",
       "\n",
       "\n",
       "       [[[0.88235295, 0.88235295, 0.88235295],\n",
       "         [0.88235295, 0.88235295, 0.88235295],\n",
       "         [0.88235295, 0.88235295, 0.88235295],\n",
       "         ...,\n",
       "         [0.89411765, 0.89411765, 0.89411765],\n",
       "         [0.8901961 , 0.8901961 , 0.8901961 ],\n",
       "         [0.8901961 , 0.8901961 , 0.8901961 ]],\n",
       "\n",
       "        [[0.88235295, 0.88235295, 0.88235295],\n",
       "         [0.88235295, 0.88235295, 0.88235295],\n",
       "         [0.8745098 , 0.8745098 , 0.8745098 ],\n",
       "         ...,\n",
       "         [0.8980392 , 0.8980392 , 0.8980392 ],\n",
       "         [0.89411765, 0.89411765, 0.89411765],\n",
       "         [0.89411765, 0.89411765, 0.89411765]],\n",
       "\n",
       "        [[0.88235295, 0.88235295, 0.88235295],\n",
       "         [0.8784314 , 0.8784314 , 0.8784314 ],\n",
       "         [0.85882354, 0.85882354, 0.85882354],\n",
       "         ...,\n",
       "         [0.8980392 , 0.8980392 , 0.8980392 ],\n",
       "         [0.9019608 , 0.9019608 , 0.9019608 ],\n",
       "         [0.9019608 , 0.9019608 , 0.9019608 ]],\n",
       "\n",
       "        ...,\n",
       "\n",
       "        [[0.8784314 , 0.8784314 , 0.8784314 ],\n",
       "         [0.8784314 , 0.8784314 , 0.8784314 ],\n",
       "         [0.85882354, 0.85882354, 0.85882354],\n",
       "         ...,\n",
       "         [0.8392157 , 0.8392157 , 0.8392157 ],\n",
       "         [0.8666667 , 0.8666667 , 0.8666667 ],\n",
       "         [0.87058824, 0.87058824, 0.87058824]],\n",
       "\n",
       "        [[0.88235295, 0.88235295, 0.88235295],\n",
       "         [0.88235295, 0.88235295, 0.88235295],\n",
       "         [0.8745098 , 0.8745098 , 0.8745098 ],\n",
       "         ...,\n",
       "         [0.8666667 , 0.8666667 , 0.8666667 ],\n",
       "         [0.88235295, 0.88235295, 0.88235295],\n",
       "         [0.88235295, 0.88235295, 0.88235295]],\n",
       "\n",
       "        [[0.8862745 , 0.8862745 , 0.8862745 ],\n",
       "         [0.8862745 , 0.8862745 , 0.8862745 ],\n",
       "         [0.8862745 , 0.8862745 , 0.8862745 ],\n",
       "         ...,\n",
       "         [0.88235295, 0.88235295, 0.88235295],\n",
       "         [0.89411765, 0.89411765, 0.89411765],\n",
       "         [0.89411765, 0.89411765, 0.89411765]]],\n",
       "\n",
       "\n",
       "       [[[0.81960785, 0.81960785, 0.81960785],\n",
       "         [0.81960785, 0.81960785, 0.81960785],\n",
       "         [0.8156863 , 0.8156863 , 0.8156863 ],\n",
       "         ...,\n",
       "         [0.80784315, 0.80784315, 0.80784315],\n",
       "         [0.8       , 0.8       , 0.8       ],\n",
       "         [0.8       , 0.8       , 0.8       ]],\n",
       "\n",
       "        [[0.81960785, 0.81960785, 0.81960785],\n",
       "         [0.8156863 , 0.8156863 , 0.8156863 ],\n",
       "         [0.8039216 , 0.8039216 , 0.8039216 ],\n",
       "         ...,\n",
       "         [0.80784315, 0.80784315, 0.80784315],\n",
       "         [0.8039216 , 0.8039216 , 0.8039216 ],\n",
       "         [0.8039216 , 0.8039216 , 0.8039216 ]],\n",
       "\n",
       "        [[0.8156863 , 0.8156863 , 0.8156863 ],\n",
       "         [0.80784315, 0.80784315, 0.80784315],\n",
       "         [0.7921569 , 0.7921569 , 0.7921569 ],\n",
       "         ...,\n",
       "         [0.8156863 , 0.8156863 , 0.8156863 ],\n",
       "         [0.8117647 , 0.8117647 , 0.8117647 ],\n",
       "         [0.8117647 , 0.8117647 , 0.8117647 ]],\n",
       "\n",
       "        ...,\n",
       "\n",
       "        [[0.8       , 0.8       , 0.8       ],\n",
       "         [0.79607844, 0.79607844, 0.79607844],\n",
       "         [0.78039217, 0.78039217, 0.78039217],\n",
       "         ...,\n",
       "         [0.7764706 , 0.7764706 , 0.7764706 ],\n",
       "         [0.78431374, 0.78431374, 0.78431374],\n",
       "         [0.7882353 , 0.7882353 , 0.7882353 ]],\n",
       "\n",
       "        [[0.8       , 0.8       , 0.8       ],\n",
       "         [0.79607844, 0.79607844, 0.79607844],\n",
       "         [0.7882353 , 0.7882353 , 0.7882353 ],\n",
       "         ...,\n",
       "         [0.79607844, 0.79607844, 0.79607844],\n",
       "         [0.8039216 , 0.8039216 , 0.8039216 ],\n",
       "         [0.8039216 , 0.8039216 , 0.8039216 ]],\n",
       "\n",
       "        [[0.8       , 0.8       , 0.8       ],\n",
       "         [0.8       , 0.8       , 0.8       ],\n",
       "         [0.79607844, 0.79607844, 0.79607844],\n",
       "         ...,\n",
       "         [0.80784315, 0.80784315, 0.80784315],\n",
       "         [0.8156863 , 0.8156863 , 0.8156863 ],\n",
       "         [0.8156863 , 0.8156863 , 0.8156863 ]]],\n",
       "\n",
       "\n",
       "       ...,\n",
       "\n",
       "\n",
       "       [[[0.85490197, 0.85490197, 0.85490197],\n",
       "         [0.8509804 , 0.8509804 , 0.8509804 ],\n",
       "         [0.84313726, 0.84313726, 0.84313726],\n",
       "         ...,\n",
       "         [0.83137256, 0.83137256, 0.83137256],\n",
       "         [0.84313726, 0.84313726, 0.84313726],\n",
       "         [0.8352941 , 0.8352941 , 0.8352941 ]],\n",
       "\n",
       "        [[0.8509804 , 0.8509804 , 0.8509804 ],\n",
       "         [0.84705883, 0.84705883, 0.84705883],\n",
       "         [0.8352941 , 0.8352941 , 0.8352941 ],\n",
       "         ...,\n",
       "         [0.80784315, 0.80784315, 0.80784315],\n",
       "         [0.8352941 , 0.8352941 , 0.8352941 ],\n",
       "         [0.8352941 , 0.8352941 , 0.8352941 ]],\n",
       "\n",
       "        [[0.84313726, 0.84313726, 0.84313726],\n",
       "         [0.8392157 , 0.8392157 , 0.8392157 ],\n",
       "         [0.8235294 , 0.8235294 , 0.8235294 ],\n",
       "         ...,\n",
       "         [0.7647059 , 0.7647059 , 0.7647059 ],\n",
       "         [0.8117647 , 0.8117647 , 0.8117647 ],\n",
       "         [0.8392157 , 0.8392157 , 0.8392157 ]],\n",
       "\n",
       "        ...,\n",
       "\n",
       "        [[0.84313726, 0.84313726, 0.84313726],\n",
       "         [0.8509804 , 0.8509804 , 0.8509804 ],\n",
       "         [0.8509804 , 0.8509804 , 0.8509804 ],\n",
       "         ...,\n",
       "         [0.84313726, 0.84313726, 0.84313726],\n",
       "         [0.84313726, 0.84313726, 0.84313726],\n",
       "         [0.8509804 , 0.8509804 , 0.8509804 ]],\n",
       "\n",
       "        [[0.8392157 , 0.8392157 , 0.8392157 ],\n",
       "         [0.84705883, 0.84705883, 0.84705883],\n",
       "         [0.8509804 , 0.8509804 , 0.8509804 ],\n",
       "         ...,\n",
       "         [0.84705883, 0.84705883, 0.84705883],\n",
       "         [0.84705883, 0.84705883, 0.84705883],\n",
       "         [0.8509804 , 0.8509804 , 0.8509804 ]],\n",
       "\n",
       "        [[0.8352941 , 0.8352941 , 0.8352941 ],\n",
       "         [0.84313726, 0.84313726, 0.84313726],\n",
       "         [0.8509804 , 0.8509804 , 0.8509804 ],\n",
       "         ...,\n",
       "         [0.84705883, 0.84705883, 0.84705883],\n",
       "         [0.8509804 , 0.8509804 , 0.8509804 ],\n",
       "         [0.8509804 , 0.8509804 , 0.8509804 ]]],\n",
       "\n",
       "\n",
       "       [[[0.95686275, 0.95686275, 0.95686275],\n",
       "         [0.95686275, 0.95686275, 0.95686275],\n",
       "         [0.95686275, 0.95686275, 0.95686275],\n",
       "         ...,\n",
       "         [0.90588236, 0.90588236, 0.90588236],\n",
       "         [0.9254902 , 0.9254902 , 0.9254902 ],\n",
       "         [0.9372549 , 0.9372549 , 0.9372549 ]],\n",
       "\n",
       "        [[0.9490196 , 0.9490196 , 0.9490196 ],\n",
       "         [0.94509804, 0.94509804, 0.94509804],\n",
       "         [0.9372549 , 0.9372549 , 0.9372549 ],\n",
       "         ...,\n",
       "         [0.84313726, 0.84313726, 0.84313726],\n",
       "         [0.8862745 , 0.8862745 , 0.8862745 ],\n",
       "         [0.91764706, 0.91764706, 0.91764706]],\n",
       "\n",
       "        [[0.94509804, 0.94509804, 0.94509804],\n",
       "         [0.92941177, 0.92941177, 0.92941177],\n",
       "         [0.9098039 , 0.9098039 , 0.9098039 ],\n",
       "         ...,\n",
       "         [0.7254902 , 0.7254902 , 0.7254902 ],\n",
       "         [0.8156863 , 0.8156863 , 0.8156863 ],\n",
       "         [0.87058824, 0.87058824, 0.87058824]],\n",
       "\n",
       "        ...,\n",
       "\n",
       "        [[0.972549  , 0.972549  , 0.972549  ],\n",
       "         [0.9647059 , 0.9647059 , 0.9647059 ],\n",
       "         [0.95686275, 0.95686275, 0.95686275],\n",
       "         ...,\n",
       "         [0.96862745, 0.96862745, 0.96862745],\n",
       "         [0.9647059 , 0.9647059 , 0.9647059 ],\n",
       "         [0.9647059 , 0.9647059 , 0.9647059 ]],\n",
       "\n",
       "        [[0.9647059 , 0.9647059 , 0.9647059 ],\n",
       "         [0.9647059 , 0.9647059 , 0.9647059 ],\n",
       "         [0.9647059 , 0.9647059 , 0.9647059 ],\n",
       "         ...,\n",
       "         [0.9647059 , 0.9647059 , 0.9647059 ],\n",
       "         [0.9607843 , 0.9607843 , 0.9607843 ],\n",
       "         [0.9607843 , 0.9607843 , 0.9607843 ]],\n",
       "\n",
       "        [[0.9490196 , 0.9490196 , 0.9490196 ],\n",
       "         [0.95686275, 0.95686275, 0.95686275],\n",
       "         [0.972549  , 0.972549  , 0.972549  ],\n",
       "         ...,\n",
       "         [0.9607843 , 0.9607843 , 0.9607843 ],\n",
       "         [0.9607843 , 0.9607843 , 0.9607843 ],\n",
       "         [0.9607843 , 0.9607843 , 0.9607843 ]]],\n",
       "\n",
       "\n",
       "       [[[0.8352941 , 0.8352941 , 0.8352941 ],\n",
       "         [0.83137256, 0.83137256, 0.83137256],\n",
       "         [0.8156863 , 0.8156863 , 0.8156863 ],\n",
       "         ...,\n",
       "         [0.79607844, 0.79607844, 0.79607844],\n",
       "         [0.8039216 , 0.8039216 , 0.8039216 ],\n",
       "         [0.81960785, 0.81960785, 0.81960785]],\n",
       "\n",
       "        [[0.83137256, 0.83137256, 0.83137256],\n",
       "         [0.81960785, 0.81960785, 0.81960785],\n",
       "         [0.7921569 , 0.7921569 , 0.7921569 ],\n",
       "         ...,\n",
       "         [0.76862746, 0.76862746, 0.76862746],\n",
       "         [0.7921569 , 0.7921569 , 0.7921569 ],\n",
       "         [0.8117647 , 0.8117647 , 0.8117647 ]],\n",
       "\n",
       "        [[0.8235294 , 0.8235294 , 0.8235294 ],\n",
       "         [0.8       , 0.8       , 0.8       ],\n",
       "         [0.7529412 , 0.7529412 , 0.7529412 ],\n",
       "         ...,\n",
       "         [0.7176471 , 0.7176471 , 0.7176471 ],\n",
       "         [0.7647059 , 0.7647059 , 0.7647059 ],\n",
       "         [0.79607844, 0.79607844, 0.79607844]],\n",
       "\n",
       "        ...,\n",
       "\n",
       "        [[0.83137256, 0.83137256, 0.83137256],\n",
       "         [0.8352941 , 0.8352941 , 0.8352941 ],\n",
       "         [0.8352941 , 0.8352941 , 0.8352941 ],\n",
       "         ...,\n",
       "         [0.8235294 , 0.8235294 , 0.8235294 ],\n",
       "         [0.827451  , 0.827451  , 0.827451  ],\n",
       "         [0.8352941 , 0.8352941 , 0.8352941 ]],\n",
       "\n",
       "        [[0.8352941 , 0.8352941 , 0.8352941 ],\n",
       "         [0.8352941 , 0.8352941 , 0.8352941 ],\n",
       "         [0.8352941 , 0.8352941 , 0.8352941 ],\n",
       "         ...,\n",
       "         [0.83137256, 0.83137256, 0.83137256],\n",
       "         [0.83137256, 0.83137256, 0.83137256],\n",
       "         [0.8352941 , 0.8352941 , 0.8352941 ]],\n",
       "\n",
       "        [[0.8352941 , 0.8352941 , 0.8352941 ],\n",
       "         [0.8352941 , 0.8352941 , 0.8352941 ],\n",
       "         [0.83137256, 0.83137256, 0.83137256],\n",
       "         ...,\n",
       "         [0.8352941 , 0.8352941 , 0.8352941 ],\n",
       "         [0.8352941 , 0.8352941 , 0.8352941 ],\n",
       "         [0.8392157 , 0.8392157 , 0.8392157 ]]]], dtype=float32)"
      ]
     },
     "execution_count": 8,
     "metadata": {},
     "output_type": "execute_result"
    }
   ],
   "source": [
    "X_test"
   ]
  },
  {
   "cell_type": "markdown",
   "metadata": {},
   "source": [
    "### Visualize Prediction Results"
   ]
  },
  {
   "cell_type": "code",
   "execution_count": 12,
   "metadata": {},
   "outputs": [
    {
     "data": {
      "image/png": "[encoded data removed]",
      "text/plain": [
       "<Figure size 640x480 with 1 Axes>"
      ]
     },
     "metadata": {},
     "output_type": "display_data"
    }
   ],
   "source": [
    "plt.imshow(X_test[195])\n",
    "plt.title(f\"Label: {predicted_labels[195]}\")\n",
    "plt.show()"
   ]
  },
  {
   "cell_type": "code",
   "execution_count": 10,
   "metadata": {},
   "outputs": [
    {
     "name": "stdout",
     "output_type": "stream",
     "text": [
      "\u001b[1m32/32\u001b[0m \u001b[32m━━━━━━━━━━━━━━━━━━━━\u001b[0m\u001b[37m\u001b[0m \u001b[1m0s\u001b[0m 8ms/step - accuracy: 0.9762 - loss: 0.0596\n",
      "Test Accuracy: 0.983134925365448\n"
     ]
    }
   ],
   "source": [
    "y_test = le.fit_transform(y_test)\n",
    "test_loss, test_accuracy = model.evaluate(X_test, y_test)\n",
    "print(f\"Test Accuracy: {test_accuracy}\")"
   ]
  },
  {
   "cell_type": "code",
   "execution_count": null,
   "metadata": {},
   "outputs": [],
   "source": []
  }
 ],
 "metadata": {
  "kernelspec": {
   "display_name": "base",
   "language": "python",
   "name": "python3"
  },
  "language_info": {
   "codemirror_mode": {
    "name": "ipython",
    "version": 3
   },
   "file_extension": ".py",
   "mimetype": "text/x-python",
   "name": "python",
   "nbconvert_exporter": "python",
   "pygments_lexer": "ipython3",
   "version": "3.9.7"
  }
 },
 "nbformat": 4,
 "nbformat_minor": 2
}
